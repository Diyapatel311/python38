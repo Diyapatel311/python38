{
 "cells": [
  {
   "cell_type": "code",
   "execution_count": 1,
   "id": "7ceac0b7-9b55-401b-afdf-5ca08d9f577b",
   "metadata": {},
   "outputs": [
    {
     "name": "stdout",
     "output_type": "stream",
     "text": [
      "Hello World \n"
     ]
    }
   ],
   "source": [
    "print (\"Hello World \")"
   ]
  },
  {
   "cell_type": "code",
   "execution_count": 2,
   "id": "be82a50d-491c-47d1-a84b-bd72479b15d5",
   "metadata": {},
   "outputs": [
    {
     "name": "stdout",
     "output_type": "stream",
     "text": [
      "3\n"
     ]
    }
   ],
   "source": [
    "a = 3\n",
    "print (a)"
   ]
  },
  {
   "cell_type": "code",
   "execution_count": 4,
   "id": "5eb32b26-f132-495e-9f6d-98df6320aa2b",
   "metadata": {},
   "outputs": [
    {
     "name": "stdout",
     "output_type": "stream",
     "text": [
      "13\n"
     ]
    }
   ],
   "source": [
    "print (10 + 3)\n"
   ]
  },
  {
   "cell_type": "code",
   "execution_count": null,
   "id": "c2bfd16c-e7a4-46c1-802b-efdb0f6c91a0",
   "metadata": {},
   "outputs": [],
   "source": []
  }
 ],
 "metadata": {
  "kernelspec": {
   "display_name": "Python [conda env:base] *",
   "language": "python",
   "name": "conda-base-py"
  },
  "language_info": {
   "codemirror_mode": {
    "name": "ipython",
    "version": 3
   },
   "file_extension": ".py",
   "mimetype": "text/x-python",
   "name": "python",
   "nbconvert_exporter": "python",
   "pygments_lexer": "ipython3",
   "version": "3.13.5"
  }
 },
 "nbformat": 4,
 "nbformat_minor": 5
}
